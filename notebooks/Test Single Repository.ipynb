{
 "cells": [
  {
   "cell_type": "code",
   "execution_count": 1,
   "metadata": {},
   "outputs": [],
   "source": [
    "from musos_assist.domain.ports import MusicSingleReleaseRepository\n",
    "from musos_assist.adapters import InMemoryMusicSingleReleaseRepository\n",
    "\n",
    "repository: MusicSingleReleaseRepository = InMemoryMusicSingleReleaseRepository()\n",
    "assert isinstance(repository, MusicSingleReleaseRepository)\n",
    "assert repository.list_singles() == []"
   ]
  },
  {
   "cell_type": "code",
   "execution_count": 2,
   "metadata": {},
   "outputs": [],
   "source": [
    "from musos_assist.domain.models import MusicSingleRelease\n",
    "from musos_assist.constants import EXAMPLE_SINGLE_DATA\n",
    "\n",
    "repository: MusicSingleReleaseRepository = InMemoryMusicSingleReleaseRepository()\n",
    "single = MusicSingleRelease(**EXAMPLE_SINGLE_DATA.copy())\n",
    "created_single = repository.create_single(single)\n",
    "assert created_single == single"
   ]
  },
  {
   "cell_type": "code",
   "execution_count": 3,
   "metadata": {},
   "outputs": [],
   "source": [
    "import pytest\n",
    "\n",
    "repository: MusicSingleReleaseRepository = InMemoryMusicSingleReleaseRepository()\n",
    "single1 = MusicSingleRelease(**EXAMPLE_SINGLE_DATA.copy())\n",
    "single1.isrc = \"US1234567890\"\n",
    "repository.create_single(single1)\n",
    "single2 = MusicSingleRelease(**EXAMPLE_SINGLE_DATA.copy())\n",
    "single2.isrc = \"US1234567890\"  # Duplicate ISRC\n",
    "with pytest.raises(ValueError, match=\"ISRC already exists\"):\n",
    "    repository.create_single(single2)"
   ]
  },
  {
   "cell_type": "code",
   "execution_count": 4,
   "metadata": {},
   "outputs": [],
   "source": [
    "repository: MusicSingleReleaseRepository = InMemoryMusicSingleReleaseRepository()\n",
    "single1 = MusicSingleRelease(**EXAMPLE_SINGLE_DATA.copy())\n",
    "single1.isrc = \"US1234567890\"\n",
    "single1.title = \"Test Single 1\"\n",
    "single2 = MusicSingleRelease(**EXAMPLE_SINGLE_DATA.copy())\n",
    "single2.isrc = \"US0987654321\"\n",
    "single2.title = \"Test Single 2\"\n",
    "repository.create_single(single1)\n",
    "repository.create_single(single2)\n",
    "assert repository.list_singles() == [single1, single2]"
   ]
  },
  {
   "cell_type": "code",
   "execution_count": 5,
   "metadata": {},
   "outputs": [],
   "source": [
    "repository: MusicSingleReleaseRepository = InMemoryMusicSingleReleaseRepository()\n",
    "single = MusicSingleRelease(**EXAMPLE_SINGLE_DATA.copy())\n",
    "repository.create_single(single)\n",
    "assert repository.read_single(single.isrc) == single\n",
    "with pytest.raises(ValueError):\n",
    "    repository.read_single(\"US0000000000\")"
   ]
  },
  {
   "cell_type": "code",
   "execution_count": 6,
   "metadata": {},
   "outputs": [],
   "source": [
    "repository: MusicSingleReleaseRepository = InMemoryMusicSingleReleaseRepository()\n",
    "single: MusicSingleRelease = MusicSingleRelease(**EXAMPLE_SINGLE_DATA.copy())\n",
    "repository.create_single(single)\n",
    "updated_single: MusicSingleRelease = single.model_copy()\n",
    "updated_single.isrc = single.isrc\n",
    "updated_single.title = \"Updated Title\"\n",
    "repository.update_single(single.isrc, updated_single)\n",
    "assert repository.read_single(single.isrc) == updated_single"
   ]
  },
  {
   "cell_type": "code",
   "execution_count": 7,
   "metadata": {},
   "outputs": [],
   "source": [
    "from musos_assist.constants import SINGLE_NOT_FOUND\n",
    "\n",
    "repository: MusicSingleReleaseRepository = InMemoryMusicSingleReleaseRepository()\n",
    "single = MusicSingleRelease(**EXAMPLE_SINGLE_DATA.copy())\n",
    "with pytest.raises(ValueError, match=SINGLE_NOT_FOUND):\n",
    "    repository.update_single(\"US1234567890\", single)"
   ]
  },
  {
   "cell_type": "code",
   "execution_count": 8,
   "metadata": {},
   "outputs": [],
   "source": [
    "repository: MusicSingleReleaseRepository = InMemoryMusicSingleReleaseRepository()\n",
    "single = MusicSingleRelease(**EXAMPLE_SINGLE_DATA.copy())\n",
    "repository.create_single(single)\n",
    "repository.delete_single(single.isrc)\n",
    "with pytest.raises(ValueError):\n",
    "    repository.read_single(single.isrc)"
   ]
  },
  {
   "cell_type": "code",
   "execution_count": 9,
   "metadata": {},
   "outputs": [],
   "source": [
    "repository: MusicSingleReleaseRepository = InMemoryMusicSingleReleaseRepository()\n",
    "with pytest.raises(ValueError, match=SINGLE_NOT_FOUND):\n",
    "    repository.delete_single(\"US1234567890\")"
   ]
  },
  {
   "cell_type": "code",
   "execution_count": null,
   "metadata": {},
   "outputs": [],
   "source": []
  }
 ],
 "metadata": {
  "kernelspec": {
   "display_name": ".venv",
   "language": "python",
   "name": "python3"
  },
  "language_info": {
   "codemirror_mode": {
    "name": "ipython",
    "version": 3
   },
   "file_extension": ".py",
   "mimetype": "text/x-python",
   "name": "python",
   "nbconvert_exporter": "python",
   "pygments_lexer": "ipython3",
   "version": "3.11.9"
  }
 },
 "nbformat": 4,
 "nbformat_minor": 2
}
