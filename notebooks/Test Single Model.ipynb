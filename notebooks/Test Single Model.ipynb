{
 "cells": [
  {
   "cell_type": "code",
   "execution_count": null,
   "metadata": {},
   "outputs": [],
   "source": [
    "import pytest\n",
    "from datetime import date, timedelta\n",
    "\n",
    "# Valid data for testing\n",
    "VALID_SINGLE_DATA = {\n",
    "    \"title\": \"Example Song Title\",\n",
    "    \"isrc\": \"USX9P2312345\",\n",
    "    \"artist_names\": [\"Example Artist\"],\n",
    "    \"release_date\": date(2023, 10, 27),\n",
    "    \"genres\": [\"Pop\"],\n",
    "    \"label\": \"Example Records\",\n",
    "    \"version\": \"Radio Edit\",\n",
    "    \"formats\": [\"Digital\"],\n",
    "    \"duration\": timedelta(minutes=3, seconds=30),\n",
    "    \"artwork_url\": \"https://example.com/artwork.jpg\",\n",
    "    \"audio_preview_url\": \"https://example.com/preview.mp3\",\n",
    "    \"catalog_number\": \"ER12345\",\n",
    "    \"subgenres\": [\"Synth-pop\"],\n",
    "    \"composers\": [\"John Doe\", \"Jane Smith\"],\n",
    "    \"producers\": [\"Producer X\"],\n",
    "    \"language\": \"English\",\n",
    "    \"lyrics\": \"Lyrics go here,\\nThis is my song,\\nThis is a cool song.\",\n",
    "    \"notes\": \"This is a radio edit version.\",\n",
    "}"
   ]
  },
  {
   "cell_type": "code",
   "execution_count": 2,
   "metadata": {},
   "outputs": [],
   "source": [
    "from musos_assist.domain.models import MusicSingleRelease\n",
    "\n",
    "single = MusicSingleRelease(**VALID_SINGLE_DATA.copy())  # type: ignore[arg-type]\n",
    "assert isinstance(single, MusicSingleRelease)\n",
    "assert single.title == VALID_SINGLE_DATA[\"title\"]\n",
    "assert single.isrc == VALID_SINGLE_DATA[\"isrc\"]\n",
    "assert single.artist_names == VALID_SINGLE_DATA[\"artist_names\"]\n",
    "assert single.release_date == VALID_SINGLE_DATA[\"release_date\"]\n",
    "assert single.genres == VALID_SINGLE_DATA[\"genres\"]\n",
    "assert single.label == VALID_SINGLE_DATA[\"label\"]\n",
    "assert single.version == VALID_SINGLE_DATA[\"version\"]\n",
    "assert single.formats == VALID_SINGLE_DATA[\"formats\"]\n",
    "assert single.duration == VALID_SINGLE_DATA[\"duration\"]\n",
    "assert (\n",
    "    str(single.artwork_url) == VALID_SINGLE_DATA[\"artwork_url\"]\n",
    ")  # Convert HttpUrl to string for comparison\n",
    "assert (\n",
    "    str(single.audio_preview_url) == VALID_SINGLE_DATA[\"audio_preview_url\"]\n",
    ")  # Convert HttpUrl to string for comparison\n",
    "assert single.catalog_number == VALID_SINGLE_DATA[\"catalog_number\"]\n",
    "assert single.subgenres == VALID_SINGLE_DATA[\"subgenres\"]\n",
    "assert single.composers == VALID_SINGLE_DATA[\"composers\"]\n",
    "assert single.producers == VALID_SINGLE_DATA[\"producers\"]\n",
    "assert single.language == VALID_SINGLE_DATA[\"language\"]\n",
    "assert single.lyrics == VALID_SINGLE_DATA[\"lyrics\"]\n",
    "assert single.notes == VALID_SINGLE_DATA[\"notes\"]"
   ]
  },
  {
   "cell_type": "code",
   "execution_count": 3,
   "metadata": {},
   "outputs": [],
   "source": [
    "from pydantic import ValidationError\n",
    "\n",
    "required_fields = [\"title\", \"isrc\", \"artist_names\", \"release_date\", \"genres\"]\n",
    "for field in required_fields:\n",
    "    invalid_data = VALID_SINGLE_DATA.copy()\n",
    "    del invalid_data[field]\n",
    "    with pytest.raises(ValidationError) as excinfo:\n",
    "        MusicSingleRelease(**invalid_data)  # type: ignore[arg-type]\n",
    "    assert field in str(\n",
    "        excinfo.value\n",
    "    ), f\"ValidationError should mention missing field: {field}\""
   ]
  },
  {
   "cell_type": "code",
   "execution_count": 4,
   "metadata": {},
   "outputs": [],
   "source": [
    "invalid_isrcs = [\n",
    "    \"USX9P231234\",  # Too short\n",
    "    \"USX9P23123456\",  # Too long\n",
    "    \"USX9P231234!\",  # Invalid character\n",
    "    \"usx9p2312345\",  # Lowercase country code\n",
    "    \"1SX9P2312345\",  # Digit as first country code\n",
    "]\n",
    "for invalid_isrc in invalid_isrcs:\n",
    "    invalid_data = VALID_SINGLE_DATA.copy()\n",
    "    invalid_data[\"isrc\"] = invalid_isrc\n",
    "    with pytest.raises(ValidationError) as excinfo:\n",
    "        MusicSingleRelease(**invalid_data)  # type: ignore[arg-type]\n",
    "    assert \"isrc\" in str(\n",
    "        excinfo.value\n",
    "    ), f\"ValidationError for invalid ISRC: {invalid_isrc}\""
   ]
  },
  {
   "cell_type": "code",
   "execution_count": 5,
   "metadata": {},
   "outputs": [],
   "source": [
    "invalid_data = VALID_SINGLE_DATA.copy()\n",
    "invalid_data[\"release_date\"] = \"20231027\"  # String instead of date\n",
    "with pytest.raises(ValidationError) as excinfo:\n",
    "    MusicSingleRelease(**invalid_data)  # type: ignore[arg-type]\n",
    "assert \"release_date\" in str(excinfo.value)"
   ]
  },
  {
   "cell_type": "code",
   "execution_count": 6,
   "metadata": {},
   "outputs": [],
   "source": [
    "invalid_urls = [\n",
    "    \"not a url\",\n",
    "    \"ftp://example.com/artwork.jpg\",  # Not http/https\n",
    "    \"http://\",  # Incomplete URL\n",
    "]\n",
    "for invalid_url in invalid_urls:\n",
    "    invalid_data = VALID_SINGLE_DATA.copy()\n",
    "    invalid_data[\"artwork_url\"] = invalid_url\n",
    "    with pytest.raises(ValidationError) as excinfo:\n",
    "        MusicSingleRelease(**invalid_data)  # type: ignore[arg-type]\n",
    "    assert \"artwork_url\" in str(\n",
    "        excinfo.value\n",
    "    ), f\"ValidationError for invalid artwork_url: {invalid_url}\""
   ]
  },
  {
   "cell_type": "code",
   "execution_count": 7,
   "metadata": {},
   "outputs": [],
   "source": [
    "invalid_urls = [\n",
    "    \"not a url\",\n",
    "    \"ftp://example.com/preview.mp3\",  # Not http/https\n",
    "    \"http://\",  # Incomplete URL\n",
    "]\n",
    "for invalid_url in invalid_urls:\n",
    "    invalid_data = VALID_SINGLE_DATA.copy()\n",
    "    invalid_data[\"audio_preview_url\"] = invalid_url\n",
    "    with pytest.raises(ValidationError) as excinfo:\n",
    "        MusicSingleRelease(**invalid_data)  # type: ignore[arg-type]\n",
    "    assert \"audio_preview_url\" in str(\n",
    "        excinfo.value\n",
    "    ), f\"ValidationError for invalid audio_preview_url: {invalid_url}\""
   ]
  },
  {
   "cell_type": "code",
   "execution_count": 8,
   "metadata": {},
   "outputs": [],
   "source": [
    "optional_fields = [\n",
    "    \"label\",\n",
    "    \"version\",\n",
    "    \"formats\",\n",
    "    \"duration\",\n",
    "    \"artwork_url\",\n",
    "    \"audio_preview_url\",\n",
    "    \"catalog_number\",\n",
    "    \"subgenres\",\n",
    "    \"composers\",\n",
    "    \"producers\",\n",
    "    \"language\",\n",
    "    \"lyrics\",\n",
    "    \"notes\",\n",
    "]\n",
    "for field in optional_fields:\n",
    "    valid_data_with_optional_none = VALID_SINGLE_DATA.copy()\n",
    "    valid_data_with_optional_none[field] = None\n",
    "    single = MusicSingleRelease(**valid_data_with_optional_none)  # type: ignore[arg-type]\n",
    "    assert (\n",
    "        getattr(single, field) is None\n",
    "    ), f\"Optional field '{field}' should accept None\""
   ]
  },
  {
   "cell_type": "code",
   "execution_count": 9,
   "metadata": {},
   "outputs": [],
   "source": [
    "invalid_data = VALID_SINGLE_DATA.copy()\n",
    "invalid_data[\"artist_names\"] = []\n",
    "with pytest.raises(ValidationError) as excinfo:\n",
    "    MusicSingleRelease(**invalid_data)  # type: ignore[arg-type]\n",
    "assert \"artist_names\" in str(excinfo.value)"
   ]
  },
  {
   "cell_type": "code",
   "execution_count": 10,
   "metadata": {},
   "outputs": [],
   "source": [
    "invalid_data = VALID_SINGLE_DATA.copy()\n",
    "invalid_data[\"genres\"] = []\n",
    "with pytest.raises(ValidationError) as excinfo:\n",
    "    MusicSingleRelease(**invalid_data)  # type: ignore[arg-type]\n",
    "assert \"genres\" in str(excinfo.value)"
   ]
  }
 ],
 "metadata": {
  "kernelspec": {
   "display_name": ".venv",
   "language": "python",
   "name": "python3"
  },
  "language_info": {
   "codemirror_mode": {
    "name": "ipython",
    "version": 3
   },
   "file_extension": ".py",
   "mimetype": "text/x-python",
   "name": "python",
   "nbconvert_exporter": "python",
   "pygments_lexer": "ipython3",
   "version": "3.11.9"
  }
 },
 "nbformat": 4,
 "nbformat_minor": 2
}
